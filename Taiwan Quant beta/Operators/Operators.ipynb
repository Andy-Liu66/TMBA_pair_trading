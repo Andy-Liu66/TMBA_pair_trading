{
 "cells": [
  {
   "cell_type": "code",
   "execution_count": 1,
   "metadata": {},
   "outputs": [],
   "source": [
    "import math\n",
    "import numpy as np\n",
    "import sys\n",
    "import pandas as pd"
   ]
  },
  {
   "cell_type": "code",
   "execution_count": 2,
   "metadata": {},
   "outputs": [],
   "source": [
    "def add(x,y,filter=False):\n",
    "    if filter==True:\n",
    "        x[np.isnan(x)] = 0\n",
    "        y[np.isnan(y)] = 0\n",
    "    else:\n",
    "        a=0\n",
    "    return x+y"
   ]
  },
  {
   "cell_type": "code",
   "execution_count": 3,
   "metadata": {},
   "outputs": [],
   "source": [
    "def ceil(x):\n",
    "    a=x.shape[0]\n",
    "    b=x.shape[1]\n",
    "    for i in range(a):\n",
    "        for j in range(b):\n",
    "            x[i][j]=int(x[i][j])+1\n",
    "    return x"
   ]
  },
  {
   "cell_type": "code",
   "execution_count": 4,
   "metadata": {},
   "outputs": [],
   "source": [
    "def divide(x,y):\n",
    "    return x/y"
   ]
  },
  {
   "cell_type": "code",
   "execution_count": 5,
   "metadata": {},
   "outputs": [],
   "source": [
    "def exp(x):\n",
    "    x=np.exp(x)\n",
    "    return x"
   ]
  },
  {
   "cell_type": "code",
   "execution_count": 6,
   "metadata": {},
   "outputs": [],
   "source": [
    "def floor(x):\n",
    "    a=x.shape[0]\n",
    "    b=x.shape[1]\n",
    "    for i in range(a):\n",
    "        for j in range(b):\n",
    "            x[i][j]=int(x[i][j])\n",
    "    return x"
   ]
  },
  {
   "cell_type": "code",
   "execution_count": 7,
   "metadata": {},
   "outputs": [],
   "source": [
    "def frac(x): \n",
    "    return x.astype(float)-floor(x)"
   ]
  },
  {
   "cell_type": "code",
   "execution_count": 8,
   "metadata": {},
   "outputs": [],
   "source": [
    "def inverse(x):\n",
    "    return 1/x"
   ]
  },
  {
   "cell_type": "code",
   "execution_count": 9,
   "metadata": {},
   "outputs": [],
   "source": [
    "def log(x):\n",
    "    matrix = x.astype(float).copy()\n",
    "    for i in range(np.shape(x)[0]):\n",
    "        array = matrix[i]\n",
    "        for j in range(len(array)):\n",
    "            array[j]=np.log(array[j])\n",
    "    return(matrix)"
   ]
  },
  {
   "cell_type": "code",
   "execution_count": 10,
   "metadata": {},
   "outputs": [],
   "source": [
    "def log_diff(x):\n",
    "    matrix = np.transpose(x).astype(float).copy()\n",
    "    new_list = list()\n",
    "    for i in range(np.shape(x)[0]):\n",
    "        array = matrix[i]\n",
    "        new_array = list()\n",
    "        new_array.append(0.)\n",
    "        for j in range(1,len(array)):\n",
    "            new_array.append(array[j]-array[j-1])  \n",
    "        new_list.append(new_array)\n",
    "    return(np.array(np.transpose(new_list)))"
   ]
  },
  {
   "cell_type": "code",
   "execution_count": 11,
   "metadata": {},
   "outputs": [],
   "source": [
    "def nan_out(x, lower=0, upper=0):\n",
    "    matrix = x.astype(float).copy()\n",
    "    for i in range(np.shape(x)[0]):\n",
    "        array = matrix[i]\n",
    "        for j in range(len(array)):\n",
    "            if array[j] < lower:\n",
    "                array[j]=np.nan\n",
    "            elif array[j] > upper:\n",
    "                array[j]=np.nan\n",
    "    return(matrix)"
   ]
  },
  {
   "cell_type": "code",
   "execution_count": 12,
   "metadata": {},
   "outputs": [],
   "source": [
    "def power(x,y): \n",
    "    return x**y"
   ]
  },
  {
   "cell_type": "code",
   "execution_count": 13,
   "metadata": {},
   "outputs": [],
   "source": [
    "def purify(x): \n",
    "    pos_inf = math.inf\n",
    "    neg_inf = -math.inf\n",
    "    matrix = x.astype(float).copy()\n",
    "    for i in range(np.shape(x)[0]):\n",
    "        array = matrix[i]\n",
    "        for j in range(len(array)):\n",
    "            if array[j] == pos_inf:\n",
    "                array[j]=np.nan\n",
    "    return(matrix)"
   ]
  },
  {
   "cell_type": "code",
   "execution_count": 14,
   "metadata": {},
   "outputs": [],
   "source": [
    "def reverse(x):\n",
    "    return(-x)"
   ]
  },
  {
   "cell_type": "code",
   "execution_count": 15,
   "metadata": {},
   "outputs": [],
   "source": [
    "def sign(x):\n",
    "    matrix = x.astype(float).copy()\n",
    "    for i in range(np.shape(x)[0]):\n",
    "        array = matrix[i]\n",
    "        for j in range(len(array)):\n",
    "            if np.isnan(array[j])==True:\n",
    "                array[j]=np.nan\n",
    "            elif array[j] > 0:\n",
    "                array[j]=1\n",
    "            elif array[j] < 0:\n",
    "                array[j]=-1\n",
    "            else:\n",
    "                array[j]=0\n",
    "    return(matrix)"
   ]
  },
  {
   "cell_type": "code",
   "execution_count": 16,
   "metadata": {},
   "outputs": [],
   "source": [
    "def signed_power_(x, y): \n",
    "    matrix_x = x.astype(float).copy()\n",
    "    matrix_y = x.astype(float).copy()\n",
    "    for i in range(np.shape(x)[0]):\n",
    "        array_x = matrix_x[i]\n",
    "        array_y = matrix_y[i]\n",
    "        for j in range(len(array_x)):\n",
    "            if array_x[j]>=0:\n",
    "                array_x[j]=array_x[j]**array_y[j]\n",
    "            elif array_x[j]<0:\n",
    "                array_x[j]=-1*array_x[j]**array_y[j]\n",
    "    return(matrix_x)"
   ]
  },
  {
   "cell_type": "code",
   "execution_count": 17,
   "metadata": {},
   "outputs": [],
   "source": [
    "def slog1p(x):\n",
    "    return(sign(x) * log(1 + abs(x)))"
   ]
  },
  {
   "cell_type": "code",
   "execution_count": 18,
   "metadata": {},
   "outputs": [],
   "source": [
    "def sqrt(x):\n",
    "    return x**(1/2)"
   ]
  },
  {
   "cell_type": "code",
   "execution_count": 19,
   "metadata": {},
   "outputs": [],
   "source": [
    "def subtract(x, y, filters=False):\n",
    "    if filters == False:\n",
    "        return(x-y)\n",
    "    if filters == True:\n",
    "        matrix_x = x.astype(float).copy()\n",
    "        for i in range(np.shape(x)[0]):\n",
    "            array = matrix_x[i]\n",
    "            for j in range(len(array)):\n",
    "                if np.isnan(array[j])==True:\n",
    "                    array[j]=0\n",
    "                    \n",
    "        matrix_y = y.astype(float).copy()\n",
    "        for i in range(np.shape(y)[0]):\n",
    "            array = matrix_y[i]\n",
    "            for j in range(len(array)):\n",
    "                if np.isnan(array[j])==True:\n",
    "                    array[j]=0\n",
    "        return(matrix_x-matrix_y)"
   ]
  },
  {
   "cell_type": "code",
   "execution_count": 20,
   "metadata": {},
   "outputs": [],
   "source": [
    "def to_nan(x, value=0, reverse=False):\n",
    "    if reverse == False:\n",
    "        matrix = x.astype(float).copy()\n",
    "        for i in range(np.shape(x)[0]):\n",
    "            array = matrix[i]\n",
    "            for j in range(len(array)):\n",
    "                if array[j]==value:\n",
    "                    array[j]=np.nan\n",
    "    if reverse == True:\n",
    "        matrix = x.astype(float).copy()\n",
    "        for i in range(np.shape(x)[0]):\n",
    "            array = matrix[i]\n",
    "            for j in range(len(array)):\n",
    "                if np.isnan(array[j])==True:\n",
    "                    array[j]=value\n",
    "    return(matrix)"
   ]
  },
  {
   "cell_type": "code",
   "execution_count": 21,
   "metadata": {},
   "outputs": [],
   "source": [
    "def negate(x):\n",
    "    matrix = x.astype(float).copy()\n",
    "    for i in range(np.shape(x)[0]):\n",
    "        array = matrix[i]\n",
    "        for j in range(len(array)):\n",
    "            if array[j] == 0:\n",
    "                array[j]=0\n",
    "            else:\n",
    "                array[j]=1\n",
    "    return(matrix)"
   ]
  },
  {
   "cell_type": "code",
   "execution_count": 22,
   "metadata": {},
   "outputs": [],
   "source": [
    "def is_not_nan(x):\n",
    "    matrix = x.astype(float).copy()\n",
    "    for i in range(np.shape(x)[0]):\n",
    "        array = matrix[i]\n",
    "        for j in range(len(array)):\n",
    "            if np.isnan(array[j]) == False:\n",
    "                array[j]=1\n",
    "            else:\n",
    "                array[j]=0\n",
    "    return(matrix)"
   ]
  },
  {
   "cell_type": "code",
   "execution_count": 23,
   "metadata": {},
   "outputs": [],
   "source": [
    "def is_nan(x):\n",
    "    matrix = x.astype(float).copy()\n",
    "    for i in range(np.shape(x)[0]):\n",
    "        array = matrix[i]\n",
    "        for j in range(len(array)):\n",
    "            if np.isnan(array[j]) == True:\n",
    "                array[j]=1\n",
    "            else:\n",
    "                array[j]=0\n",
    "    return(matrix)"
   ]
  },
  {
   "cell_type": "code",
   "execution_count": 24,
   "metadata": {},
   "outputs": [],
   "source": [
    "def is_finite(x):\n",
    "    matrix = x.astype(float).copy()\n",
    "    for i in range(np.shape(x)[0]):\n",
    "        array = matrix[i]\n",
    "        for j in range(len(array)):\n",
    "            if np.isinf(array[j]) == True:\n",
    "                array[j]=1\n",
    "            elif np.isnan(array[j]) == True:\n",
    "                array[j]=1\n",
    "            else:\n",
    "                array[j]=0\n",
    "    return(matrix)\n"
   ]
  },
  {
   "cell_type": "code",
   "execution_count": 25,
   "metadata": {},
   "outputs": [],
   "source": [
    "def is_not_finite(x):\n",
    "    matrix = x.astype(float).copy()\n",
    "    for i in range(np.shape(x)[0]):\n",
    "        array = matrix[i]\n",
    "        for j in range(len(array)):\n",
    "            if np.isinf(array[j]) == True:\n",
    "                array[j]=0\n",
    "            elif np.isnan(array[j]) == True:\n",
    "                array[j]=0\n",
    "            else:\n",
    "                array[j]=1\n",
    "    return(matrix)"
   ]
  },
  {
   "cell_type": "code",
   "execution_count": 26,
   "metadata": {},
   "outputs": [],
   "source": [
    "def arc_cos(x):\n",
    "    matrix = x.astype(float).copy()\n",
    "    for i in range(np.shape(x)[0]):\n",
    "        array = matrix[i]\n",
    "        for j in range(len(array)):\n",
    "            if 1>=array[j]>=-1:\n",
    "                array[j]=math.acos(array[j])\n",
    "            else:\n",
    "                array[j]=np.nan\n",
    "    return(matrix)"
   ]
  },
  {
   "cell_type": "code",
   "execution_count": 27,
   "metadata": {},
   "outputs": [],
   "source": [
    "def arc_sin(x):\n",
    "    matrix = x.astype(float).copy()\n",
    "    for i in range(np.shape(x)[0]):\n",
    "        array = matrix[i]\n",
    "        for j in range(len(array)):\n",
    "            if 1>=array[j]>=-1:\n",
    "                array[j]=math.asin(array[j])\n",
    "            else:\n",
    "                array[j]=np.nan\n",
    "    return(matrix)"
   ]
  },
  {
   "cell_type": "code",
   "execution_count": 28,
   "metadata": {},
   "outputs": [],
   "source": [
    "def arc_tan(x):\n",
    "    matrix = x.astype(float).copy()\n",
    "    for i in range(np.shape(x)[0]):\n",
    "        array = matrix[i]\n",
    "        for j in range(len(array)):\n",
    "            array[j]=math.atan(array[j])\n",
    "    return(matrix)"
   ]
  },
  {
   "cell_type": "code",
   "execution_count": 29,
   "metadata": {},
   "outputs": [],
   "source": [
    "def left_tail(x, maximum = 0):\n",
    "    matrix = x.astype(float).copy()\n",
    "    for i in range(np.shape(x)[0]):\n",
    "        array = matrix[i]\n",
    "        for j in range(len(array)):\n",
    "            if array[j] > maximum:\n",
    "                array[j]=np.nan\n",
    "    return(matrix)"
   ]
  },
  {
   "cell_type": "code",
   "execution_count": 30,
   "metadata": {},
   "outputs": [],
   "source": [
    "def right_tail(x, minimum = 0):\n",
    "    matrix = x.astype(float).copy()\n",
    "    for i in range(np.shape(x)[0]):\n",
    "        array = matrix[i]\n",
    "        for j in range(len(array)):\n",
    "            if array[j] < minimum:\n",
    "                array[j]=np.nan\n",
    "    return(matrix)"
   ]
  },
  {
   "cell_type": "code",
   "execution_count": 31,
   "metadata": {},
   "outputs": [],
   "source": [
    "def sigmoid(x):\n",
    "    return(1 / (1 + np.exp(-x)))"
   ]
  },
  {
   "cell_type": "code",
   "execution_count": 32,
   "metadata": {},
   "outputs": [],
   "source": [
    "def tail(x, lower = 0,upper = 0, newval=0 ):\n",
    "    matrix = x.astype(float).copy()\n",
    "    for i in range(np.shape(x)[0]):\n",
    "        array = matrix[i]\n",
    "        for j in range(len(array)):\n",
    "            if array[j] < lower:\n",
    "                array[j] = newval\n",
    "            elif array[j] > upper:\n",
    "                array[j] = newval\n",
    "    return(matrix)"
   ]
  },
  {
   "cell_type": "code",
   "execution_count": 33,
   "metadata": {},
   "outputs": [],
   "source": [
    "def tanh(x):\n",
    "    return(np.tanh(x))"
   ]
  },
  {
   "cell_type": "code",
   "execution_count": 34,
   "metadata": {},
   "outputs": [],
   "source": [
    "def normalize(x, useStd=False, limit=0.0):\n",
    "    matrix=x.astype(float).copy()\n",
    "    if len(np.shape(x)) == 1:\n",
    "        if useStd == False:\n",
    "            if limit == 0.0:\n",
    "                return x-x.mean()\n",
    "            else:\n",
    "                a=x-x.mean()\n",
    "                b=((a)*(limit*2))/(a.max()-a.min()) \n",
    "                return b+(limit-b.max())\n",
    "        else:\n",
    "            if limit == 0.0:\n",
    "                return (x-x.mean())/x.std()   \n",
    "            else:\n",
    "                a=(x-x.mean())/x.std()\n",
    "                b=((a)*(limit*2))/(a.max()-a.min()) \n",
    "                return b+(limit-b.max())\n",
    "    else:\n",
    "        if useStd == False:\n",
    "            if limit == 0.0:\n",
    "                for i in range(np.shape(x)[0]):\n",
    "                    matrix[i] = x[i]-x[i].mean()\n",
    "                return matrix\n",
    "            else:\n",
    "                for i in range(np.shape(x)[0]):\n",
    "                    a=x[i]-x[i].mean()\n",
    "                    b=((a)*(limit*2))/(a.max()-a.min()) \n",
    "                    matrix[i] = b+(limit-b.max())\n",
    "                return matrix\n",
    "        else:\n",
    "            if limit == 0.0:\n",
    "                for i in range(np.shape(x)[0]):\n",
    "                    matrix[i] = (x[i]-x[i].mean())/x[i].std()\n",
    "                return matrix  \n",
    "            else:\n",
    "                for i in range(np.shape(x)[0]):\n",
    "                    a=(x[i]-x[i].mean())/x[i].std()\n",
    "                    b=((a)*(limit*2))/(a.max()-a.min()) \n",
    "                    matrix[i] = b+(limit-b.max())\n",
    "                return matrix"
   ]
  },
  {
   "cell_type": "code",
   "execution_count": 35,
   "metadata": {},
   "outputs": [],
   "source": [
    "def rank(x,rate=2):\n",
    "    matrix = x.astype(float).copy()\n",
    "    if rate == 2 :\n",
    "        for i in range(np.shape(x)[0]):\n",
    "            array = matrix[i]\n",
    "            seq = sorted(array)\n",
    "            matrix[i] = [seq.index(v) for v in array]\n",
    "        matrix = matrix/(np.shape(np.transpose(x))[1]-1)\n",
    "    elif rate == 0 :\n",
    "        for i in range(np.shape(np.transpose(x))[0]):\n",
    "            array = matrix[i]\n",
    "            matrix[i] = [(v-min(array))/(max(array)-min(array)) for v in array]\n",
    "    \n",
    "    return(np.transpose(matrix))"
   ]
  },
  {
   "cell_type": "code",
   "execution_count": 36,
   "metadata": {},
   "outputs": [],
   "source": [
    "def scale_down(x, constant=0):\n",
    "    matrix=x.astype(float).copy()\n",
    "    if len(np.shape(x)) == 1:\n",
    "        return (x-x.min())/(x.max()-x.min()) - constant\n",
    "    else:\n",
    "        for i in range(np.shape(x)[0]):\n",
    "            matrix[i] = (x[i]-x[i].min())/(x[i].max()-x[i].min()) - constant\n",
    "        return matrix"
   ]
  },
  {
   "cell_type": "code",
   "execution_count": 37,
   "metadata": {},
   "outputs": [],
   "source": [
    "def winsorize(x, std=4):\n",
    "    matrix=x.astype(float).copy()\n",
    "    if len(np.shape(x)) == 1:\n",
    "        a = (x > x.mean() + std*x.std()) | (x < x.mean() - std*x.std())\n",
    "        return np.delete(x, np.where(a))\n",
    "    else:\n",
    "        for i in range(np.shape(x)[0]):\n",
    "            a = (x[i] > x[i].mean() + std*x[i].std()) | (x[i] < x[i].mean() - std*x[i].std())\n",
    "            matrix[i] = np.delete(x[i], np.where(a))\n",
    "        return matrix\n",
    "    \n",
    "# some problems when dim are not match"
   ]
  },
  {
   "cell_type": "code",
   "execution_count": 38,
   "metadata": {},
   "outputs": [],
   "source": [
    "def zscore(x):\n",
    "    matrix=x.astype(float).copy()\n",
    "    if len(np.shape(x)) == 1:\n",
    "        return (x-x.mean())/x.std()\n",
    "    else:\n",
    "        for i in range(np.shape(x)[0]):\n",
    "            matrix[i] = (x[i]-x[i].mean())/x[i].std()\n",
    "        return matrix"
   ]
  },
  {
   "cell_type": "code",
   "execution_count": 39,
   "metadata": {},
   "outputs": [],
   "source": [
    " def ts_delay(x, d):\n",
    "    if len(np.shape(x)) == 1:\n",
    "        x=pd.Series(x)\n",
    "        return x.shift(periods=d)\n",
    "    else:\n",
    "        x=pd.DataFrame(x)\n",
    "        return x.shift(periods=d, axis=1)\n",
    "# input format : pandas DataFrame and Series\n",
    "# note the data format !!!!!!!"
   ]
  },
  {
   "cell_type": "code",
   "execution_count": 40,
   "metadata": {},
   "outputs": [],
   "source": [
    "def ts_delta(x, d):\n",
    "    return x - ts_delay(x, d)\n",
    "# input format : pandas DataFrame"
   ]
  },
  {
   "cell_type": "code",
   "execution_count": 41,
   "metadata": {},
   "outputs": [],
   "source": [
    "def ts_ir(x, d):\n",
    "    return ts_mean(x, d)/ts_stddev(x, d)"
   ]
  },
  {
   "cell_type": "code",
   "execution_count": 42,
   "metadata": {},
   "outputs": [],
   "source": [
    "def ts_max(x, d):\n",
    "    if len(np.shape(x)) == 1:\n",
    "        x=pd.Series(x)\n",
    "        return x.max()\n",
    "    else:\n",
    "        a=np.zeros(shape=(np.shape(x)))\n",
    "        x=pd.DataFrame(x[:,-d:])\n",
    "        a[:,-1]=x.max(axis = 1)\n",
    "        return a\n",
    "# note the data format !!!!!!!"
   ]
  },
  {
   "cell_type": "code",
   "execution_count": 43,
   "metadata": {},
   "outputs": [],
   "source": [
    "def ts_max_diff(x, d):\n",
    "    matrix=np.zeros(shape=np.shape(x))\n",
    "    for i in range(len(matrix)):\n",
    "        matrix[i] = x.T[i] - ts_max(x, d)[:,-1]\n",
    "    return matrix.T"
   ]
  },
  {
   "cell_type": "code",
   "execution_count": 44,
   "metadata": {},
   "outputs": [],
   "source": [
    "def ts_mean(x, d):\n",
    "    a=np.zeros(shape=(np.shape(x)))\n",
    "    x=pd.DataFrame(x[:, -d:])\n",
    "    a[:,-1]=x.mean(axis = 1)\n",
    "    return a"
   ]
  },
  {
   "cell_type": "code",
   "execution_count": 45,
   "metadata": {},
   "outputs": [],
   "source": [
    "def ts_median(x, d):\n",
    "    a=np.zeros(shape=(np.shape(x)))\n",
    "    x=pd.DataFrame(x[:,-d:])\n",
    "    a[:,-1]=x.median(axis = 1)\n",
    "    return a"
   ]
  },
  {
   "cell_type": "code",
   "execution_count": 46,
   "metadata": {},
   "outputs": [],
   "source": [
    "def ts_min(x, d):    \n",
    "    a=np.zeros(shape=(np.shape(x)))\n",
    "    x=pd.DataFrame(x[:,-d:])\n",
    "    a[:,-1]=x.min(axis = 1)\n",
    "    return a"
   ]
  },
  {
   "cell_type": "code",
   "execution_count": 47,
   "metadata": {},
   "outputs": [],
   "source": [
    "def ts_min_diff(x, d):\n",
    "    matrix=np.zeros(shape=np.shape(x))\n",
    "    for i in range(len(matrix)):\n",
    "        matrix[i] = x.T[i] - ts_min(x, d)[:,-1]\n",
    "    return matrix.T"
   ]
  },
  {
   "cell_type": "code",
   "execution_count": 48,
   "metadata": {},
   "outputs": [],
   "source": [
    "def ts_min_max_cps(x, d, f=2):\n",
    "    matrix=np.zeros(shape=np.shape(x))\n",
    "    for i in range(len(matrix)):\n",
    "        matrix[i] = (ts_min(x, d)[:,-1] - ts_max(x, d)[:,-1]) - f * x.T[i]\n",
    "    return matrix.T"
   ]
  },
  {
   "cell_type": "code",
   "execution_count": 49,
   "metadata": {},
   "outputs": [],
   "source": [
    "def ts_min_max_diff(x, d, f=0.5):\n",
    "    matrix=np.zeros(shape=np.shape(x))\n",
    "    for i in range(len(matrix)):\n",
    "        matrix[i] = x.T[i] - f*(ts_min(x, d)[:,-1] + ts_max(x, d)[:,-1])\n",
    "    return matrix.T"
   ]
  },
  {
   "cell_type": "code",
   "execution_count": 50,
   "metadata": {},
   "outputs": [],
   "source": [
    "def ts_product(x, d):\n",
    "    a=np.zeros(shape=(np.shape(x)))\n",
    "    x=pd.DataFrame(x[:,-d:])\n",
    "    a[:,-1]=x.prod(axis = 1)\n",
    "    return a"
   ]
  },
  {
   "cell_type": "code",
   "execution_count": 51,
   "metadata": {},
   "outputs": [],
   "source": [
    "def ts_returns(x, d, mode=1):\n",
    "    if mode == 1:\n",
    "        return (x.T - ts_delay(x, d))/ts_delay(x, d)\n",
    "    elif mode == 2:\n",
    "        return (x.T - ts_delay(x, d))/((x + ts_delay(x, d))/2)"
   ]
  },
  {
   "cell_type": "code",
   "execution_count": 52,
   "metadata": {},
   "outputs": [],
   "source": [
    "def ts_scale(x, d, constant = 0):\n",
    "    matrix=np.zeros(shape=np.shape(x))\n",
    "    for i in range(len(matrix)):\n",
    "        matrix[i] = ((x.T[i] - ts_min(x, d)[:,-1])/(ts_max(x, d)[:,-1]-ts_min(x, d)[:,-1])) + constant\n",
    "    return matrix.T"
   ]
  },
  {
   "cell_type": "code",
   "execution_count": 53,
   "metadata": {},
   "outputs": [],
   "source": [
    "def ts_stddev(x, d):\n",
    "    a=np.zeros(shape=(np.shape(x)))\n",
    "    x=pd.DataFrame(x[:,-d:])\n",
    "    a[:,-1]=x.std(axis = 1)\n",
    "    return a"
   ]
  },
  {
   "cell_type": "code",
   "execution_count": 54,
   "metadata": {},
   "outputs": [],
   "source": [
    "def ts_sum(x, d):\n",
    "    a=np.zeros(shape=(np.shape(x)))\n",
    "    x=pd.DataFrame(x[:,-d:])\n",
    "    a[:,-1]=x.sum(axis = 1)\n",
    "    return a"
   ]
  },
  {
   "cell_type": "code",
   "execution_count": 55,
   "metadata": {},
   "outputs": [],
   "source": [
    "def ts_zscore(x, d):\n",
    "    matrix=np.zeros(shape=np.shape(x))\n",
    "    for i in range(len(matrix)):\n",
    "        matrix[i] = (x.T[i] - ts_mean(x, d)[:,-1])/ts_stddev(x, d)[:,-1]\n",
    "    return matrix.T"
   ]
  },
  {
   "cell_type": "markdown",
   "metadata": {},
   "source": [
    "--------------------------------------------------"
   ]
  },
  {
   "cell_type": "code",
   "execution_count": 56,
   "metadata": {},
   "outputs": [],
   "source": [
    "def if_else(input1, input2, input3):\n",
    "    if input1 == True:\n",
    "        input2\n",
    "    else:\n",
    "        input3"
   ]
  },
  {
   "cell_type": "code",
   "execution_count": 57,
   "metadata": {},
   "outputs": [],
   "source": [
    "def group_scale(x, group):\n",
    "    matrix=x.astype(float).copy()\n",
    "    if len(np.shape(x)) == 1:\n",
    "        return (x-group.min())/(group.max()-group.min())\n",
    "    else:\n",
    "        for i in range(np.shape(x)[0]):\n",
    "            matrix[i] = (x[i]-group.min())/(group.max()-group.min())\n",
    "        return matrix\n",
    "    \n",
    "# some problems when dim of group != 1"
   ]
  },
  {
   "cell_type": "code",
   "execution_count": null,
   "metadata": {},
   "outputs": [],
   "source": []
  },
  {
   "cell_type": "code",
   "execution_count": null,
   "metadata": {},
   "outputs": [],
   "source": []
  },
  {
   "cell_type": "code",
   "execution_count": null,
   "metadata": {},
   "outputs": [],
   "source": []
  },
  {
   "cell_type": "code",
   "execution_count": null,
   "metadata": {},
   "outputs": [],
   "source": []
  },
  {
   "cell_type": "code",
   "execution_count": null,
   "metadata": {},
   "outputs": [],
   "source": []
  },
  {
   "cell_type": "code",
   "execution_count": null,
   "metadata": {},
   "outputs": [],
   "source": []
  }
 ],
 "metadata": {
  "kernelspec": {
   "display_name": "Python 3",
   "language": "python",
   "name": "python3"
  },
  "language_info": {
   "codemirror_mode": {
    "name": "ipython",
    "version": 3
   },
   "file_extension": ".py",
   "mimetype": "text/x-python",
   "name": "python",
   "nbconvert_exporter": "python",
   "pygments_lexer": "ipython3",
   "version": "3.6.3"
  }
 },
 "nbformat": 4,
 "nbformat_minor": 2
}
